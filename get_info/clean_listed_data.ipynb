{
 "cells": [
  {
   "cell_type": "code",
   "execution_count": 1,
   "id": "efd6e137",
   "metadata": {},
   "outputs": [],
   "source": [
    "# python 3.8.10 environment\n",
    "import pandas as pd\n",
    "import numpy as np\n",
    "import glob\n",
    "import os"
   ]
  },
  {
   "cell_type": "code",
   "execution_count": 2,
   "id": "6a243400",
   "metadata": {},
   "outputs": [
    {
     "name": "stdout",
     "output_type": "stream",
     "text": [
      "   Number                      Model  \\\n",
      "0       1  ROG Strix G513IE_G513IE     \n",
      "1       2             Custom Build     \n",
      "\n",
      "                                         CPU  CPUCores    RAMAmount  RAMType  \\\n",
      "0   AMD Ryzen 7 4800H with Radeon Graphics           8  16558182400       26   \n",
      "1  Intel(R) Core(TM) i7-10700 CPU @ 2.90GHz          8  16558182400       26   \n",
      "\n",
      "   StorageAmount StorageType         Windows WindowsActivated  \n",
      "0   512105932800   SSD        Windows 11 Pro                y  \n",
      "1   512105932800   SSD        Windows 11 Pro                y  \n"
     ]
    }
   ],
   "source": [
    "# file_paths = ['list_data.txt']\n",
    "folder_path = \".\"\n",
    "\n",
    "# Get all .txt files in the folder\n",
    "file_paths = glob.glob(os.path.join(folder_path, \"list*.txt\"))\n",
    "\n",
    "dfs = []\n",
    "for i, path in enumerate(file_paths):\n",
    "    if i == 0:\n",
    "        df = pd.read_csv(path, sep=',')\n",
    "    else:\n",
    "        df = pd.read_csv(path, sep=',', skiprows=1, header=None)\n",
    "        df.columns = dfs[0].columns\n",
    "    dfs.append(df)\n",
    "\n",
    "df_combined = pd.concat(dfs, ignore_index=True)\n",
    "\n",
    "print(df_combined)"
   ]
  },
  {
   "cell_type": "code",
   "execution_count": 3,
   "id": "3f99521c",
   "metadata": {},
   "outputs": [
    {
     "data": {
      "text/html": [
       "<div>\n",
       "<style scoped>\n",
       "    .dataframe tbody tr th:only-of-type {\n",
       "        vertical-align: middle;\n",
       "    }\n",
       "\n",
       "    .dataframe tbody tr th {\n",
       "        vertical-align: top;\n",
       "    }\n",
       "\n",
       "    .dataframe thead th {\n",
       "        text-align: right;\n",
       "    }\n",
       "</style>\n",
       "<table border=\"1\" class=\"dataframe\">\n",
       "  <thead>\n",
       "    <tr style=\"text-align: right;\">\n",
       "      <th></th>\n",
       "      <th>Number</th>\n",
       "      <th>Model</th>\n",
       "      <th>CPU</th>\n",
       "      <th>CPUCores</th>\n",
       "      <th>RAMType</th>\n",
       "      <th>StorageAmount</th>\n",
       "      <th>StorageType</th>\n",
       "      <th>Windows</th>\n",
       "      <th>WindowsActivated</th>\n",
       "      <th>RAM</th>\n",
       "    </tr>\n",
       "  </thead>\n",
       "  <tbody>\n",
       "    <tr>\n",
       "      <th>0</th>\n",
       "      <td>1</td>\n",
       "      <td>ROG Strix G513IE_G513IE</td>\n",
       "      <td>AMD Ryzen 7 4800H with Radeon Graphics</td>\n",
       "      <td>8</td>\n",
       "      <td>26</td>\n",
       "      <td>512105932800</td>\n",
       "      <td>SSD</td>\n",
       "      <td>Windows 11 Pro</td>\n",
       "      <td>y</td>\n",
       "      <td>16GB</td>\n",
       "    </tr>\n",
       "    <tr>\n",
       "      <th>1</th>\n",
       "      <td>2</td>\n",
       "      <td>Custom Build</td>\n",
       "      <td>Intel(R) Core(TM) i7-10700 CPU @ 2.90GHz</td>\n",
       "      <td>8</td>\n",
       "      <td>26</td>\n",
       "      <td>512105932800</td>\n",
       "      <td>SSD</td>\n",
       "      <td>Windows 11 Pro</td>\n",
       "      <td>y</td>\n",
       "      <td>16GB</td>\n",
       "    </tr>\n",
       "  </tbody>\n",
       "</table>\n",
       "</div>"
      ],
      "text/plain": [
       "   Number                      Model  \\\n",
       "0       1  ROG Strix G513IE_G513IE     \n",
       "1       2             Custom Build     \n",
       "\n",
       "                                         CPU  CPUCores  RAMType  \\\n",
       "0   AMD Ryzen 7 4800H with Radeon Graphics           8       26   \n",
       "1  Intel(R) Core(TM) i7-10700 CPU @ 2.90GHz          8       26   \n",
       "\n",
       "   StorageAmount StorageType         Windows WindowsActivated   RAM  \n",
       "0   512105932800   SSD        Windows 11 Pro                y  16GB  \n",
       "1   512105932800   SSD        Windows 11 Pro                y  16GB  "
      ]
     },
     "execution_count": 3,
     "metadata": {},
     "output_type": "execute_result"
    }
   ],
   "source": [
    "# Convert bytes to GB, always rounding UP, and format with 'GB'\n",
    "df_combined['RAM'] = (np.ceil(df_combined['RAMAmount'] / (1024**3))).astype(int).astype(str) + 'GB'\n",
    "df_combined.drop('RAMAmount', axis=1)"
   ]
  },
  {
   "cell_type": "code",
   "execution_count": 4,
   "id": "4f393df1",
   "metadata": {},
   "outputs": [],
   "source": [
    "# Define RAM lookup table\n",
    "ram_lookup_table = {\n",
    "    0: \"Unknown\",\n",
    "    1: \"Other\",\n",
    "    2: \"DRAM\",\n",
    "    3: \"Synchronous DRAM\",\n",
    "    4: \"Cache DRAM\",\n",
    "    5: \"EDO\",\n",
    "    6: \"EDRAM\",\n",
    "    7: \"VRAM\",\n",
    "    8: \"SRAM\",\n",
    "    9: \"RAM\",\n",
    "    10: \"ROM\",\n",
    "    11: \"Flash\",\n",
    "    12: \"EEPROM\",\n",
    "    13: \"FEPROM\",\n",
    "    14: \"EPROM\",\n",
    "    15: \"CDRAM\",\n",
    "    16: \"3DRAM\",\n",
    "    17: \"SDRAM\",\n",
    "    18: \"SGRAM\",\n",
    "    19: \"RDRAM\",\n",
    "    20: \"DDR\",\n",
    "    21: \"DDR2\",\n",
    "    22: \"DDR2 FB-DIMM\",\n",
    "    23: \"Reserved\",\n",
    "    24: \"DDR3\",\n",
    "    25: \"FBD2\",\n",
    "    26: \"DDR4\",\n",
    "    27: \"LPDDR\",\n",
    "    28: \"LPDDR2\",\n",
    "    29: \"LPDDR3\",\n",
    "    30: \"LPDDR4\",\n",
    "    31: \"Logical non-volatile device\",\n",
    "    32: \"HBM\",\n",
    "    33: \"HBM2\",\n",
    "    34: \"DDR5\"\n",
    "}"
   ]
  },
  {
   "cell_type": "code",
   "execution_count": 5,
   "id": "b0825c96",
   "metadata": {},
   "outputs": [
    {
     "name": "stdout",
     "output_type": "stream",
     "text": [
      "   Number                      Model  \\\n",
      "0       1  ROG Strix G513IE_G513IE     \n",
      "1       2             Custom Build     \n",
      "\n",
      "                                         CPU  CPUCores  StorageAmount  \\\n",
      "0   AMD Ryzen 7 4800H with Radeon Graphics           8   512105932800   \n",
      "1  Intel(R) Core(TM) i7-10700 CPU @ 2.90GHz          8   512105932800   \n",
      "\n",
      "  StorageType         Windows WindowsActivated RAM Amount and Type  \n",
      "0   SSD        Windows 11 Pro                y           16GB DDR4  \n",
      "1   SSD        Windows 11 Pro                y           16GB DDR4  \n"
     ]
    }
   ],
   "source": [
    "# Map the numeric codes to names and add to new column for ram amount and type\n",
    "df_combined['RAM Amount and Type'] = df_combined['RAM'] + ' ' + df_combined['RAMType'].map(ram_lookup_table)\n",
    "\n",
    "\n",
    "# List of columns to drop\n",
    "columns_to_drop = ['RAM', 'RAMType', 'RAMAmount']\n",
    "\n",
    "# Drop multiple columns\n",
    "df_new = df_combined.drop(columns=columns_to_drop)\n",
    "print(df_new)"
   ]
  },
  {
   "cell_type": "code",
   "execution_count": 6,
   "id": "9904db05",
   "metadata": {},
   "outputs": [],
   "source": [
    "# Convert bytes to GB\n",
    "sizes_gb = df_new['StorageAmount'] / (1024**3)\n",
    "\n",
    "# Common marketed capacities in GB\n",
    "common_sizes = np.array([64, 128, 256, 512, 1024, 2048, 4096])\n",
    "\n",
    "# Snap each size to nearest common capacity\n",
    "def snap_to_common(x):\n",
    "    return common_sizes[np.argmin(np.abs(common_sizes - x))]\n",
    "\n",
    "df_new['Storage_Snapped_GB'] = sizes_gb.apply(snap_to_common)\n",
    "\n",
    "# Format as string with GB or TB\n",
    "def format_size(x):\n",
    "    if x >= 1024:\n",
    "        return f\"{int(x/1024)}TB\"\n",
    "    else:\n",
    "        return f\"{int(x)}GB\"\n",
    "\n",
    "df_new['Storage_Display'] = df_new['Storage_Snapped_GB'].apply(format_size)\n",
    "df_new['Storage Amount and Type'] = df_new['Storage_Display'] + ' ' + df_new['StorageType']"
   ]
  },
  {
   "cell_type": "code",
   "execution_count": 7,
   "id": "e763807d",
   "metadata": {},
   "outputs": [
    {
     "name": "stdout",
     "output_type": "stream",
     "text": [
      "   Number                      Model  \\\n",
      "0       1  ROG Strix G513IE_G513IE     \n",
      "1       2             Custom Build     \n",
      "\n",
      "                                         CPU  CPUCores         Windows  \\\n",
      "0   AMD Ryzen 7 4800H with Radeon Graphics           8  Windows 11 Pro   \n",
      "1  Intel(R) Core(TM) i7-10700 CPU @ 2.90GHz          8  Windows 11 Pro   \n",
      "\n",
      "  WindowsActivated RAM Amount and Type Storage Amount and Type  \n",
      "0                y           16GB DDR4         512GB SSD        \n",
      "1                y           16GB DDR4         512GB SSD        \n"
     ]
    }
   ],
   "source": [
    "# List of columns to drop\n",
    "columns_to_drop = ['StorageAmount', 'StorageType', 'Storage_Snapped_GB', 'Storage_Display']\n",
    "\n",
    "# Drop multiple columns\n",
    "df_newer = df_new.drop(columns=columns_to_drop)\n",
    "\n",
    "print(df_newer)"
   ]
  },
  {
   "cell_type": "code",
   "execution_count": 8,
   "id": "3ad6da25",
   "metadata": {},
   "outputs": [
    {
     "name": "stdout",
     "output_type": "stream",
     "text": [
      "  Number                      Model  \\\n",
      "0      1  ROG Strix G513IE_G513IE     \n",
      "1      2             Custom Build     \n",
      "\n",
      "                                         CPU CPUCores         Windows  \\\n",
      "0   AMD Ryzen 7 4800H with Radeon Graphics          8  Windows 11 Pro   \n",
      "1  Intel(R) Core(TM) i7-10700 CPU @ 2.90GHz         8  Windows 11 Pro   \n",
      "\n",
      "  WindowsActivated RAM Amount and Type Storage Amount and Type  \n",
      "0                y           16GB DDR4         512GB SSD        \n",
      "1                y           16GB DDR4         512GB SSD        \n"
     ]
    }
   ],
   "source": [
    "df_converted = df_newer.astype(str)\n",
    "print(df_converted)"
   ]
  },
  {
   "cell_type": "code",
   "execution_count": 9,
   "id": "d4fc1908",
   "metadata": {},
   "outputs": [
    {
     "name": "stdout",
     "output_type": "stream",
     "text": [
      "     ID Number                      Model  \\\n",
      "0  None      1  ROG Strix G513IE_G513IE     \n",
      "1  None      2             Custom Build     \n",
      "\n",
      "                                         CPU CPUCores         Windows  \\\n",
      "0   AMD Ryzen 7 4800H with Radeon Graphics          8  Windows 11 Pro   \n",
      "1  Intel(R) Core(TM) i7-10700 CPU @ 2.90GHz         8  Windows 11 Pro   \n",
      "\n",
      "  WindowsActivated RAM Amount and Type Storage Amount and Type  \n",
      "0                y           16GB DDR4         512GB SSD        \n",
      "1                y           16GB DDR4         512GB SSD        \n"
     ]
    }
   ],
   "source": [
    "df_converted.insert(loc=0, column='ID', value=None) # can change value\n",
    "print(df_converted)"
   ]
  },
  {
   "cell_type": "code",
   "execution_count": 10,
   "id": "8eaf815e",
   "metadata": {},
   "outputs": [
    {
     "name": "stdout",
     "output_type": "stream",
     "text": [
      "     ID Number                    Model  \\\n",
      "0  None      1  ROG Strix G513IE_G513IE   \n",
      "1  None      2             Custom Build   \n",
      "\n",
      "                                        CPU CPUCores         Windows  \\\n",
      "0    AMD Ryzen 7 4800H with Radeon Graphics        8  Windows 11 Pro   \n",
      "1  Intel(R) Core(TM) i7-10700 CPU @ 2.90GHz        8  Windows 11 Pro   \n",
      "\n",
      "  WindowsActivated RAM Amount and Type Storage Amount and Type  \n",
      "0                y           16GB DDR4               512GB SSD  \n",
      "1                y           16GB DDR4               512GB SSD  \n"
     ]
    }
   ],
   "source": [
    "for col in df_converted.select_dtypes(include=['object']).columns:\n",
    "    df_converted[col] = df_converted[col].str.strip()\n",
    "print(df_converted)"
   ]
  },
  {
   "cell_type": "code",
   "execution_count": 11,
   "id": "959fe768",
   "metadata": {},
   "outputs": [
    {
     "name": "stdout",
     "output_type": "stream",
     "text": [
      "     ID Number                    Model                  CPU CPUCores  \\\n",
      "0  None      1  ROG Strix G513IE_G513IE    AMD Ryzen 7 4800H        8   \n",
      "1  None      2             Custom Build  Intel Core i7-10700        8   \n",
      "\n",
      "          Windows WindowsActivated RAM Amount and Type Storage Amount and Type  \n",
      "0  Windows 11 Pro                y           16GB DDR4               512GB SSD  \n",
      "1  Windows 11 Pro                y           16GB DDR4               512GB SSD  \n"
     ]
    }
   ],
   "source": [
    "# Only keep first 4 words for Ryzen\n",
    "keyword = 'AMD Ryzen'\n",
    "mask = df_converted['CPU'].str.contains(keyword, case=False, na=False)\n",
    "\n",
    "df_converted['CPU'] = df_converted.apply(\n",
    "    lambda row: ' '.join(row['CPU'].split()[:4]) if mask[row.name] else row['CPU'],\n",
    "    axis=1\n",
    ")\n",
    "\n",
    "# Replace Intel(R) Core(TM) with Intel Core and keep the next word (model)\n",
    "df_converted['CPU'] = df_converted['CPU'].str.replace(\n",
    "    r'^Intel\\(R\\) Core\\(TM\\)\\s+(\\S+).*',\n",
    "    r'Intel Core \\1',\n",
    "    regex=True\n",
    ")\n",
    "print(df_converted)"
   ]
  },
  {
   "cell_type": "code",
   "execution_count": 12,
   "id": "7000b00b",
   "metadata": {},
   "outputs": [
    {
     "name": "stdout",
     "output_type": "stream",
     "text": [
      "     ID Number                    Model                                   CPU  \\\n",
      "0  None      1  ROG Strix G513IE_G513IE    AMD Ryzen 7 4800H 8 Core Processor   \n",
      "1  None      2             Custom Build  Intel Core i7-10700 8 Core Processor   \n",
      "\n",
      "          Windows WindowsActivated RAM Amount and Type Storage Amount and Type  \n",
      "0  Windows 11 Pro                y           16GB DDR4               512GB SSD  \n",
      "1  Windows 11 Pro                y           16GB DDR4               512GB SSD  \n"
     ]
    }
   ],
   "source": [
    "df_converted['CPU'] = df_converted['CPU'] + ' ' + df_converted['CPUCores'] + ' Core Processor'\n",
    "df = df_converted.drop('CPUCores', axis=1)\n",
    "print(df)"
   ]
  },
  {
   "cell_type": "code",
   "execution_count": 13,
   "id": "718d997a",
   "metadata": {},
   "outputs": [
    {
     "name": "stdout",
     "output_type": "stream",
     "text": [
      "     ID Number                    Model                                   CPU  \\\n",
      "0  None      1  ROG Strix G513IE_G513IE    AMD Ryzen 7 4800H 8 Core Processor   \n",
      "1  None      2             Custom Build  Intel Core i7-10700 8 Core Processor   \n",
      "\n",
      "  WindowsActivated RAM Amount and Type Storage Amount and Type  \\\n",
      "0                y           16GB DDR4               512GB SSD   \n",
      "1                y           16GB DDR4               512GB SSD   \n",
      "\n",
      "  Windows Type and Version  \n",
      "0           Windows 11 Pro  \n",
      "1           Windows 11 Pro  \n"
     ]
    }
   ],
   "source": [
    "df['Windows Type and Version'] = df['Windows']\n",
    "df = df.drop('Windows', axis=1)\n",
    "print(df)"
   ]
  },
  {
   "cell_type": "code",
   "execution_count": 14,
   "id": "aae735ff",
   "metadata": {},
   "outputs": [
    {
     "name": "stdout",
     "output_type": "stream",
     "text": [
      "     ID Number                    Model                                   CPU  \\\n",
      "0  None      1  ROG Strix G513IE_G513IE    AMD Ryzen 7 4800H 8 Core Processor   \n",
      "1  None      2             Custom Build  Intel Core i7-10700 8 Core Processor   \n",
      "\n",
      "  RAM Amount and Type Storage Amount and Type Windows Type and Version  \\\n",
      "0           16GB DDR4               512GB SSD           Windows 11 Pro   \n",
      "1           16GB DDR4               512GB SSD           Windows 11 Pro   \n",
      "\n",
      "  Is Windows Activated?  \n",
      "0                   Yes  \n",
      "1                   Yes  \n"
     ]
    }
   ],
   "source": [
    "# Replace 'y' with 'Yes' and 'n' with 'No' in Windows Activated\n",
    "df['Is Windows Activated?'] = df['WindowsActivated'].replace({'y': 'Yes', 'n': 'No'})\n",
    "df = df.drop('WindowsActivated', axis=1)\n",
    "print(df)"
   ]
  },
  {
   "cell_type": "code",
   "execution_count": null,
   "id": "ed6ea537",
   "metadata": {},
   "outputs": [],
   "source": [
    "df.to_csv('output_listed.csv', index=False)"
   ]
  }
 ],
 "metadata": {
  "kernelspec": {
   "display_name": "Python 3",
   "language": "python",
   "name": "python3"
  },
  "language_info": {
   "codemirror_mode": {
    "name": "ipython",
    "version": 3
   },
   "file_extension": ".py",
   "mimetype": "text/x-python",
   "name": "python",
   "nbconvert_exporter": "python",
   "pygments_lexer": "ipython3",
   "version": "3.8.10"
  }
 },
 "nbformat": 4,
 "nbformat_minor": 5
}
