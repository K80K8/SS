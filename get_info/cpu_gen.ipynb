{
 "cells": [
  {
   "cell_type": "code",
   "execution_count": 1,
   "id": "750a5232",
   "metadata": {},
   "outputs": [],
   "source": [
    "import re\n",
    "import pandas as pd"
   ]
  },
  {
   "cell_type": "code",
   "execution_count": 26,
   "id": "999e4d89",
   "metadata": {},
   "outputs": [],
   "source": [
    "def ordinal(n: int) -> str:\n",
    "    \"\"\"Return an integer as an ordinal string (1 -> 1st, 2 -> 2nd, etc.).\"\"\"\n",
    "    if 10 <= n % 100 <= 20:\n",
    "        suffix = \"th\"\n",
    "    else:\n",
    "        suffix = {1: \"st\", 2: \"nd\", 3: \"rd\"}.get(n % 10, \"th\")\n",
    "    return f\"{n}{suffix}\"\n",
    "\n",
    "def get_cpu_generation(cpu_name: str) -> str:\n",
    "    \"\"\"\n",
    "    Determine CPU generation from CPU name string.\n",
    "    Supports:\n",
    "      - Intel Core i3/i5/i7/i9 (desktop & mobile)\n",
    "      - Intel Core Ultra (desktop & mobile, with mobile suffixes)\n",
    "      - AMD Ryzen (desktop & mobile)\n",
    "    \"\"\"\n",
    "    if not isinstance(cpu_name, str):\n",
    "        return \"Unknown generation\"\n",
    "\n",
    "    cpu_lower = cpu_name.lower()\n",
    "\n",
    "    # ---- Intel Core i3/i5/i7/i9 (desktop & mobile) ----\n",
    "    intel_match = re.search(r'i[3579]-([0-9]{3,5})[a-z]*', cpu_lower)\n",
    "    if intel_match:\n",
    "        digits = intel_match.group(1)\n",
    "        if len(digits) == 3:       # 1st Gen\n",
    "            gen = 1\n",
    "        elif len(digits) == 4:     # 2nd–9th Gen\n",
    "            gen = int(digits[0])\n",
    "        elif len(digits) == 5:     # 10th Gen+\n",
    "            gen = int(digits[:2])\n",
    "        else:\n",
    "            return \"Unknown generation\"\n",
    "        return f\"{ordinal(gen)} Gen\"\n",
    "\n",
    "    # ---- Intel Core Ultra (desktop & mobile) ----\n",
    "    # Handles: \"Core(TM) Ultra\" or \"Core Ultra\"\n",
    "    # Allows dash or space, and optional suffixes like U, H, KF, K, etc.\n",
    "    ultra_match = re.search(\n",
    "        r'core(\\(tm\\))?\\s+ultra\\s+(\\d)[-\\s](\\d+)([a-z]{0,3})?', cpu_lower\n",
    "    )\n",
    "    if ultra_match:\n",
    "        return \"15th Gen\"\n",
    "\n",
    "    # ---- AMD Ryzen (desktop & mobile) ----\n",
    "    ryzen_match = re.search(r'ryzen\\s+\\d+\\s+([0-9]{3,5})[a-z]*', cpu_lower)\n",
    "    if ryzen_match:\n",
    "        digits = ryzen_match.group(1)\n",
    "        gen = int(digits[0])\n",
    "        return f\"{ordinal(gen)} Gen\"\n",
    "\n",
    "    return \"Unknown generation\"\n"
   ]
  },
  {
   "cell_type": "code",
   "execution_count": 39,
   "id": "be67193b",
   "metadata": {},
   "outputs": [],
   "source": [
    "data = {\n",
    "    \"CPU\": [\n",
    "        \"Intel(R) Core(TM) i7-8750H CPU @ 2.20GHz\",   \n",
    "        \"Intel(R) Core(TM) i5-10600K CPU @ 4.10GHz\",  \n",
    "        \"Intel(R) Core(TM) i9-12900HK CPU @ 3.20GHz\", \n",
    "        \"Intel Core Ultra 5 245KF\",                   \n",
    "        \"Intel(R) Core(TM) Ultra 5-245KF CPU @ 4.20GHz\",\n",
    "        \"AMD Ryzen 7 5800U 8-Core Processor\",        \n",
    "        \"AMD Ryzen 5 3600 6-Core Processor\",          \n",
    "        \"Apple M1\",                                    \n",
    "        \"Intel(R) Core(TM) Ultra 9 285K Processor\",\n",
    "        \"Intel(R) Core(TM) Ultra 7 265K Processor\",\n",
    "        \"Intel(R) Core(TM) Ultra 5 245K Processor\",\n",
    "        \"AMD Ryzen 7 4800H with Radeon Graphics\",\n",
    "        \"Intel(R) Core(TM) i7-9700K CPU @ 3.60GHz\",\n",
    "\n",
    "\n",
    "        \"Intel Core Ultra 5 245K\",\n",
    "        \"Intel Core Ultra 5-245KF\",\n",
    "        \"Intel Core Ultra 7 265H\",\n",
    "        \"Intel Core Ultra 7-265KF H\",\n",
    "        \"Intel Core Ultra 9 285K\",\n",
    "        \"Intel Core Ultra 9-285K H\"\n",
    "    ]\n",
    "}\n",
    "\n",
    "df = pd.DataFrame(data)"
   ]
  },
  {
   "cell_type": "code",
   "execution_count": 40,
   "id": "470fd8f2",
   "metadata": {},
   "outputs": [],
   "source": [
    "df[\"CPU_Generation\"] = df[\"CPU\"].apply(get_cpu_generation)"
   ]
  },
  {
   "cell_type": "code",
   "execution_count": 41,
   "id": "3de3f77b",
   "metadata": {},
   "outputs": [
    {
     "name": "stdout",
     "output_type": "stream",
     "text": [
      "                                              CPU      CPU_Generation\n",
      "0        Intel(R) Core(TM) i7-8750H CPU @ 2.20GHz             8th Gen\n",
      "1       Intel(R) Core(TM) i5-10600K CPU @ 4.10GHz            10th Gen\n",
      "2      Intel(R) Core(TM) i9-12900HK CPU @ 3.20GHz            12th Gen\n",
      "3                        Intel Core Ultra 5 245KF            15th Gen\n",
      "4   Intel(R) Core(TM) Ultra 5-245KF CPU @ 4.20GHz            15th Gen\n",
      "5              AMD Ryzen 7 5800U 8-Core Processor             5th Gen\n",
      "6               AMD Ryzen 5 3600 6-Core Processor             3rd Gen\n",
      "7                                        Apple M1  Unknown generation\n",
      "8        Intel(R) Core(TM) Ultra 9 285K Processor            15th Gen\n",
      "9        Intel(R) Core(TM) Ultra 7 265K Processor            15th Gen\n",
      "10       Intel(R) Core(TM) Ultra 5 245K Processor            15th Gen\n",
      "11         AMD Ryzen 7 4800H with Radeon Graphics             4th Gen\n",
      "12       Intel(R) Core(TM) i7-9700K CPU @ 3.60GHz             9th Gen\n",
      "13                        Intel Core Ultra 5 245K            15th Gen\n",
      "14                       Intel Core Ultra 5-245KF            15th Gen\n",
      "15                        Intel Core Ultra 7 265H            15th Gen\n",
      "16                     Intel Core Ultra 7-265KF H            15th Gen\n",
      "17                        Intel Core Ultra 9 285K            15th Gen\n",
      "18                      Intel Core Ultra 9-285K H            15th Gen\n"
     ]
    }
   ],
   "source": [
    "print(df)"
   ]
  }
 ],
 "metadata": {
  "kernelspec": {
   "display_name": "Python 3",
   "language": "python",
   "name": "python3"
  },
  "language_info": {
   "codemirror_mode": {
    "name": "ipython",
    "version": 3
   },
   "file_extension": ".py",
   "mimetype": "text/x-python",
   "name": "python",
   "nbconvert_exporter": "python",
   "pygments_lexer": "ipython3",
   "version": "3.8.10"
  }
 },
 "nbformat": 4,
 "nbformat_minor": 5
}
