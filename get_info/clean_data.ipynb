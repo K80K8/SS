{
 "cells": [
  {
   "cell_type": "code",
   "execution_count": 7,
   "id": "c2b128a1",
   "metadata": {},
   "outputs": [],
   "source": [
    "import pandas as pd\n",
    "import os"
   ]
  },
  {
   "cell_type": "code",
   "execution_count": 97,
   "id": "1d4fe621",
   "metadata": {},
   "outputs": [
    {
     "name": "stdout",
     "output_type": "stream",
     "text": [
      "    Barcode             Manufacturer                      Model  \\\n",
      "0       123  ASUSTeK COMPUTER INC.    ROG Strix G513IE_G513IE     \n",
      "1       124  ASUSTeK COMPUTER INC.    ROG Strix G513IE_G513IE     \n",
      "2       125  ASUSTeK COMPUTER INC.    ROG Strix G513IE_G513IE     \n",
      "3       126  ASUSTeK COMPUTER INC.    ROG Strix G513IE_G513IE     \n",
      "4       137  ASUSTeK COMPUTER INC.    ROG Strix G513IE_G513IE     \n",
      "5       129  ASUSTeK COMPUTER INC.    ROG Strix G513IE_G513IE     \n",
      "6       130  ASUSTeK COMPUTER INC.    ROG Strix G513IE_G513IE     \n",
      "7       131  ASUSTeK COMPUTER INC.    ROG Strix G513IE_G513IE     \n",
      "8       132  ASUSTeK COMPUTER INC.    ROG Strix G513IE_G513IE     \n",
      "9       134  ASUSTeK COMPUTER INC.    ROG Strix G513IE_G513IE     \n",
      "10      135  ASUSTeK COMPUTER INC.    ROG Strix G513IE_G513IE     \n",
      "\n",
      "         SerialNumber                                        CPU  \n",
      "0   N3NRKD03324310B     AMD Ryzen 7 4800H with Radeon Graphics    \n",
      "1   N3NRKD03324310B     AMD Ryzen 7 4800H with Radeon Graphics    \n",
      "2   N3NRKD03324310B     AMD Ryzen 7 4800H with Radeon Graphics    \n",
      "3   N3NRKD03324310B     AMD Ryzen 7 4800H with Radeon Graphics    \n",
      "4   N3NRKD03324310B     AMD Ryzen 7 4800H with Radeon Graphics    \n",
      "5   N3NRKD03324310B     AMD Ryzen 7 4800H with Radeon Graphics    \n",
      "6   N3NRKD03324310B     AMD Ryzen 7 4800H with Radeon Graphics    \n",
      "7   N3NRKD03324310B     AMD Ryzen 7 4800H with Radeon Graphics    \n",
      "8   N3NRKD03324310B     AMD Ryzen 7 4800H with Radeon Graphics    \n",
      "9   N3NRKD03324310B      AMD Ryzen 7 4800H with Radeon Graphics   \n",
      "10  N3NRKD03324310B    AMMD Ryzexn 7 4800H with Radeon Graphics   \n"
     ]
    }
   ],
   "source": [
    "file_paths = ['data.txt', 'data2.txt']\n",
    "dfs = []\n",
    "for i, path in enumerate(file_paths):\n",
    "    if i == 0:\n",
    "        df = pd.read_csv(path, sep=',')\n",
    "    else:\n",
    "        df = pd.read_csv(path, sep=',', skiprows=1, header=None)\n",
    "        df.columns = dfs[0].columns\n",
    "    dfs.append(df)\n",
    "\n",
    "df_combined = pd.concat(dfs, ignore_index=True)\n",
    "\n",
    "print(df_combined)"
   ]
  },
  {
   "cell_type": "code",
   "execution_count": 98,
   "id": "574a87dc",
   "metadata": {},
   "outputs": [
    {
     "name": "stdout",
     "output_type": "stream",
     "text": [
      "   Barcode             Manufacturer                      Model  \\\n",
      "0      123  ASUSTeK COMPUTER INC.    ROG Strix G513IE_G513IE     \n",
      "1      124  ASUSTeK COMPUTER INC.    ROG Strix G513IE_G513IE     \n",
      "2      125  ASUSTeK COMPUTER INC.    ROG Strix G513IE_G513IE     \n",
      "3      126  ASUSTeK COMPUTER INC.    ROG Strix G513IE_G513IE     \n",
      "4      137  ASUSTeK COMPUTER INC.    ROG Strix G513IE_G513IE     \n",
      "5      129  ASUSTeK COMPUTER INC.    ROG Strix G513IE_G513IE     \n",
      "6      130  ASUSTeK COMPUTER INC.    ROG Strix G513IE_G513IE     \n",
      "7      131  ASUSTeK COMPUTER INC.    ROG Strix G513IE_G513IE     \n",
      "8      132  ASUSTeK COMPUTER INC.    ROG Strix G513IE_G513IE     \n",
      "9      134  ASUSTeK COMPUTER INC.    ROG Strix G513IE_G513IE     \n",
      "10     135  ASUSTeK COMPUTER INC.    ROG Strix G513IE_G513IE     \n",
      "\n",
      "         SerialNumber                                        CPU  \n",
      "0   N3NRKD03324310B     AMD Ryzen 7 4800H with Radeon Graphics    \n",
      "1   N3NRKD03324310B     AMD Ryzen 7 4800H with Radeon Graphics    \n",
      "2   N3NRKD03324310B     AMD Ryzen 7 4800H with Radeon Graphics    \n",
      "3   N3NRKD03324310B     AMD Ryzen 7 4800H with Radeon Graphics    \n",
      "4   N3NRKD03324310B     AMD Ryzen 7 4800H with Radeon Graphics    \n",
      "5   N3NRKD03324310B     AMD Ryzen 7 4800H with Radeon Graphics    \n",
      "6   N3NRKD03324310B     AMD Ryzen 7 4800H with Radeon Graphics    \n",
      "7   N3NRKD03324310B     AMD Ryzen 7 4800H with Radeon Graphics    \n",
      "8   N3NRKD03324310B     AMD Ryzen 7 4800H with Radeon Graphics    \n",
      "9   N3NRKD03324310B      AMD Ryzen 7 4800H with Radeon Graphics   \n",
      "10  N3NRKD03324310B    AMMD Ryzexn 7 4800H with Radeon Graphics   \n"
     ]
    }
   ],
   "source": [
    "df_converted = df_combined.astype(str)\n",
    "print(df_converted)"
   ]
  },
  {
   "cell_type": "code",
   "execution_count": 99,
   "id": "2344e813",
   "metadata": {},
   "outputs": [
    {
     "name": "stdout",
     "output_type": "stream",
     "text": [
      "      ID Barcode             Manufacturer                      Model  \\\n",
      "0   None     123  ASUSTeK COMPUTER INC.    ROG Strix G513IE_G513IE     \n",
      "1   None     124  ASUSTeK COMPUTER INC.    ROG Strix G513IE_G513IE     \n",
      "2   None     125  ASUSTeK COMPUTER INC.    ROG Strix G513IE_G513IE     \n",
      "3   None     126  ASUSTeK COMPUTER INC.    ROG Strix G513IE_G513IE     \n",
      "4   None     137  ASUSTeK COMPUTER INC.    ROG Strix G513IE_G513IE     \n",
      "5   None     129  ASUSTeK COMPUTER INC.    ROG Strix G513IE_G513IE     \n",
      "6   None     130  ASUSTeK COMPUTER INC.    ROG Strix G513IE_G513IE     \n",
      "7   None     131  ASUSTeK COMPUTER INC.    ROG Strix G513IE_G513IE     \n",
      "8   None     132  ASUSTeK COMPUTER INC.    ROG Strix G513IE_G513IE     \n",
      "9   None     134  ASUSTeK COMPUTER INC.    ROG Strix G513IE_G513IE     \n",
      "10  None     135  ASUSTeK COMPUTER INC.    ROG Strix G513IE_G513IE     \n",
      "\n",
      "         SerialNumber                                        CPU  \n",
      "0   N3NRKD03324310B     AMD Ryzen 7 4800H with Radeon Graphics    \n",
      "1   N3NRKD03324310B     AMD Ryzen 7 4800H with Radeon Graphics    \n",
      "2   N3NRKD03324310B     AMD Ryzen 7 4800H with Radeon Graphics    \n",
      "3   N3NRKD03324310B     AMD Ryzen 7 4800H with Radeon Graphics    \n",
      "4   N3NRKD03324310B     AMD Ryzen 7 4800H with Radeon Graphics    \n",
      "5   N3NRKD03324310B     AMD Ryzen 7 4800H with Radeon Graphics    \n",
      "6   N3NRKD03324310B     AMD Ryzen 7 4800H with Radeon Graphics    \n",
      "7   N3NRKD03324310B     AMD Ryzen 7 4800H with Radeon Graphics    \n",
      "8   N3NRKD03324310B     AMD Ryzen 7 4800H with Radeon Graphics    \n",
      "9   N3NRKD03324310B      AMD Ryzen 7 4800H with Radeon Graphics   \n",
      "10  N3NRKD03324310B    AMMD Ryzexn 7 4800H with Radeon Graphics   \n"
     ]
    }
   ],
   "source": [
    "df_converted.insert(loc=0, column='ID', value=None) # can change value\n",
    "print(df_converted)"
   ]
  },
  {
   "cell_type": "code",
   "execution_count": 100,
   "id": "589a38b7",
   "metadata": {},
   "outputs": [
    {
     "name": "stdout",
     "output_type": "stream",
     "text": [
      "      ID Barcode           Manufacturer                    Model  \\\n",
      "0   None     123  ASUSTeK COMPUTER INC.  ROG Strix G513IE_G513IE   \n",
      "1   None     124  ASUSTeK COMPUTER INC.  ROG Strix G513IE_G513IE   \n",
      "2   None     125  ASUSTeK COMPUTER INC.  ROG Strix G513IE_G513IE   \n",
      "3   None     126  ASUSTeK COMPUTER INC.  ROG Strix G513IE_G513IE   \n",
      "4   None     137  ASUSTeK COMPUTER INC.  ROG Strix G513IE_G513IE   \n",
      "5   None     129  ASUSTeK COMPUTER INC.  ROG Strix G513IE_G513IE   \n",
      "6   None     130  ASUSTeK COMPUTER INC.  ROG Strix G513IE_G513IE   \n",
      "7   None     131  ASUSTeK COMPUTER INC.  ROG Strix G513IE_G513IE   \n",
      "8   None     132  ASUSTeK COMPUTER INC.  ROG Strix G513IE_G513IE   \n",
      "9   None     134  ASUSTeK COMPUTER INC.  ROG Strix G513IE_G513IE   \n",
      "10  None     135  ASUSTeK COMPUTER INC.  ROG Strix G513IE_G513IE   \n",
      "\n",
      "       SerialNumber                                       CPU  \n",
      "0   N3NRKD03324310B    AMD Ryzen 7 4800H with Radeon Graphics  \n",
      "1   N3NRKD03324310B    AMD Ryzen 7 4800H with Radeon Graphics  \n",
      "2   N3NRKD03324310B    AMD Ryzen 7 4800H with Radeon Graphics  \n",
      "3   N3NRKD03324310B    AMD Ryzen 7 4800H with Radeon Graphics  \n",
      "4   N3NRKD03324310B    AMD Ryzen 7 4800H with Radeon Graphics  \n",
      "5   N3NRKD03324310B    AMD Ryzen 7 4800H with Radeon Graphics  \n",
      "6   N3NRKD03324310B    AMD Ryzen 7 4800H with Radeon Graphics  \n",
      "7   N3NRKD03324310B    AMD Ryzen 7 4800H with Radeon Graphics  \n",
      "8   N3NRKD03324310B    AMD Ryzen 7 4800H with Radeon Graphics  \n",
      "9   N3NRKD03324310B    AMD Ryzen 7 4800H with Radeon Graphics  \n",
      "10  N3NRKD03324310B  AMMD Ryzexn 7 4800H with Radeon Graphics  \n"
     ]
    }
   ],
   "source": [
    "for col in df_converted.select_dtypes(include=['object']).columns:\n",
    "    df_converted[col] = df_converted[col].str.strip()\n",
    "print(df_converted)"
   ]
  },
  {
   "cell_type": "code",
   "execution_count": 101,
   "id": "f8f38614",
   "metadata": {},
   "outputs": [
    {
     "name": "stdout",
     "output_type": "stream",
     "text": [
      "      ID Barcode Manufacturer      Model     SerialNumber  \\\n",
      "0   None     123         ASUS  Rog Strix  N3NRKD03324310B   \n",
      "1   None     124         ASUS  Rog Strix  N3NRKD03324310B   \n",
      "2   None     125         ASUS  Rog Strix  N3NRKD03324310B   \n",
      "3   None     126         ASUS  Rog Strix  N3NRKD03324310B   \n",
      "4   None     137         ASUS  Rog Strix  N3NRKD03324310B   \n",
      "5   None     129         ASUS  Rog Strix  N3NRKD03324310B   \n",
      "6   None     130         ASUS  Rog Strix  N3NRKD03324310B   \n",
      "7   None     131         ASUS  Rog Strix  N3NRKD03324310B   \n",
      "8   None     132         ASUS  Rog Strix  N3NRKD03324310B   \n",
      "9   None     134         ASUS  Rog Strix  N3NRKD03324310B   \n",
      "10  None     135         ASUS  Rog Strix  N3NRKD03324310B   \n",
      "\n",
      "                                         CPU  \n",
      "0     AMD Ryzen 7 4800H with Radeon Graphics  \n",
      "1     AMD Ryzen 7 4800H with Radeon Graphics  \n",
      "2     AMD Ryzen 7 4800H with Radeon Graphics  \n",
      "3     AMD Ryzen 7 4800H with Radeon Graphics  \n",
      "4     AMD Ryzen 7 4800H with Radeon Graphics  \n",
      "5     AMD Ryzen 7 4800H with Radeon Graphics  \n",
      "6     AMD Ryzen 7 4800H with Radeon Graphics  \n",
      "7     AMD Ryzen 7 4800H with Radeon Graphics  \n",
      "8     AMD Ryzen 7 4800H with Radeon Graphics  \n",
      "9     AMD Ryzen 7 4800H with Radeon Graphics  \n",
      "10  AMMD Ryzexn 7 4800H with Radeon Graphics  \n"
     ]
    }
   ],
   "source": [
    "df_converted.loc[df_converted['Manufacturer'].str.contains('ASUS'), 'Manufacturer'] = 'ASUS'\n",
    "df_converted.loc[df_converted['Model'].str.contains('ROG Strix'), 'Model'] = 'Rog Strix'\n",
    "print(df_converted)"
   ]
  },
  {
   "cell_type": "code",
   "execution_count": 102,
   "id": "130be765",
   "metadata": {},
   "outputs": [
    {
     "name": "stdout",
     "output_type": "stream",
     "text": [
      "      ID Barcode Manufacturer      Model     SerialNumber  \\\n",
      "0   None     123         ASUS  Rog Strix  N3NRKD03324310B   \n",
      "1   None     124         ASUS  Rog Strix  N3NRKD03324310B   \n",
      "2   None     125         ASUS  Rog Strix  N3NRKD03324310B   \n",
      "3   None     126         ASUS  Rog Strix  N3NRKD03324310B   \n",
      "4   None     137         ASUS  Rog Strix  N3NRKD03324310B   \n",
      "5   None     129         ASUS  Rog Strix  N3NRKD03324310B   \n",
      "6   None     130         ASUS  Rog Strix  N3NRKD03324310B   \n",
      "7   None     131         ASUS  Rog Strix  N3NRKD03324310B   \n",
      "8   None     132         ASUS  Rog Strix  N3NRKD03324310B   \n",
      "9   None     134         ASUS  Rog Strix  N3NRKD03324310B   \n",
      "10  None     135         ASUS  Rog Strix  N3NRKD03324310B   \n",
      "\n",
      "                                         CPU  \n",
      "0                          AMD Ryzen 7 4800H  \n",
      "1                          AMD Ryzen 7 4800H  \n",
      "2                          AMD Ryzen 7 4800H  \n",
      "3                          AMD Ryzen 7 4800H  \n",
      "4                          AMD Ryzen 7 4800H  \n",
      "5                          AMD Ryzen 7 4800H  \n",
      "6                          AMD Ryzen 7 4800H  \n",
      "7                          AMD Ryzen 7 4800H  \n",
      "8                          AMD Ryzen 7 4800H  \n",
      "9                          AMD Ryzen 7 4800H  \n",
      "10  AMMD Ryzexn 7 4800H with Radeon Graphics  \n"
     ]
    }
   ],
   "source": [
    "keyword = 'AMD Ryzen'\n",
    "mask = df_converted['CPU'].str.contains(keyword, case=False, na=False)\n",
    "\n",
    "df_converted['CPU'] = df_converted.apply(\n",
    "    lambda row: ' '.join(row['CPU'].split()[:4]) if mask[row.name] else row['CPU'],\n",
    "    axis=1\n",
    ")\n",
    "\n",
    "print(df_converted)"
   ]
  },
  {
   "cell_type": "code",
   "execution_count": 103,
   "id": "9a5554c2",
   "metadata": {},
   "outputs": [],
   "source": [
    "df_converted.to_csv('output.csv', index=False)"
   ]
  }
 ],
 "metadata": {
  "kernelspec": {
   "display_name": "Python 3",
   "language": "python",
   "name": "python3"
  },
  "language_info": {
   "codemirror_mode": {
    "name": "ipython",
    "version": 3
   },
   "file_extension": ".py",
   "mimetype": "text/x-python",
   "name": "python",
   "nbconvert_exporter": "python",
   "pygments_lexer": "ipython3",
   "version": "3.8.10"
  }
 },
 "nbformat": 4,
 "nbformat_minor": 5
}
